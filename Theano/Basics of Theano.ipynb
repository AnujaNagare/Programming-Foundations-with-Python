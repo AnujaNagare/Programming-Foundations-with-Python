{
 "cells": [
  {
   "cell_type": "markdown",
   "metadata": {},
   "source": [
    "Ref: http://deeplearning.net/software/theano/\n",
    "\n",
    "## Theano is a Python library that allows you to:\n",
    "        define, \n",
    "        optimize, and \n",
    "        evaluate mathematical expressions (involving multi-dimensional arrays efficiently)"
   ]
  },
  {
   "cell_type": "markdown",
   "metadata": {},
   "source": [
    "## Theano features:\n",
    "    - tight integration with NumPy \n",
    "    - transparent use of a GPU \n",
    "    - efficient symbolic differentiation\n",
    "    - speed and stability optimizations \n",
    "    - dynamic C code generation\n",
    "    - extensive unit-testing and self-verification "
   ]
  },
  {
   "cell_type": "code",
   "execution_count": 47,
   "metadata": {
    "collapsed": true
   },
   "outputs": [],
   "source": [
    "import theano.tensor as T"
   ]
  },
  {
   "cell_type": "code",
   "execution_count": 48,
   "metadata": {
    "collapsed": true
   },
   "outputs": [],
   "source": [
    "# Different types of variables in theano\n",
    "# name is the 1st parameter passed in the argument \n",
    "c = T.scalar('c')\n",
    "v = T.vector('v')\n",
    "A = T.matrix('A')\n",
    "#Thus we have created varables"
   ]
  },
  {
   "cell_type": "markdown",
   "metadata": {},
   "source": [
    "#### Note:\n",
    "3D Tensor useful for storing n images as square images \n",
    "4D tensor useful for storing images with 3 color channels"
   ]
  },
  {
   "cell_type": "code",
   "execution_count": 49,
   "metadata": {},
   "outputs": [
    {
     "name": "stdout",
     "output_type": "stream",
     "text": [
      "dot.0 A v c\n"
     ]
    }
   ],
   "source": [
    "# matrix multiplication\n",
    "w = A.dot(v)\n",
    "print(w, A, v, c)"
   ]
  },
  {
   "cell_type": "code",
   "execution_count": 50,
   "metadata": {},
   "outputs": [
    {
     "name": "stdout",
     "output_type": "stream",
     "text": [
      "[Out(dot.0,False)]\n"
     ]
    }
   ],
   "source": [
    "import theano\n",
    "\n",
    "# create a function\n",
    "matrix_times_vector = theano.function(inputs=[A, v], outputs=w)\n",
    "print(matrix_times_vector.outputs)"
   ]
  },
  {
   "cell_type": "code",
   "execution_count": 51,
   "metadata": {},
   "outputs": [
    {
     "name": "stdout",
     "output_type": "stream",
     "text": [
      "[[1 2]\n",
      " [3 4]] \n",
      "\n",
      " [5 6]\n"
     ]
    }
   ],
   "source": [
    "# create real arrays\n",
    "import numpy as np\n",
    "A_val = np.array([[1,2], [3,4]])\n",
    "v_val = np.array([5,6])\n",
    "print(A_val,'\\n\\n', v_val)"
   ]
  },
  {
   "cell_type": "code",
   "execution_count": 52,
   "metadata": {},
   "outputs": [
    {
     "name": "stdout",
     "output_type": "stream",
     "text": [
      "[17. 39.]\n"
     ]
    }
   ],
   "source": [
    "w_val = matrix_times_vector(A_val, v_val)\n",
    "print(w_val)"
   ]
  },
  {
   "cell_type": "code",
   "execution_count": 53,
   "metadata": {},
   "outputs": [
    {
     "name": "stdout",
     "output_type": "stream",
     "text": [
      "x\n"
     ]
    }
   ],
   "source": [
    "# variables can be linked to a graph in theano\n",
    "# graph stucture can be useful for calculating gradient descent\n",
    "# regular variables can not be updated in theano so have to create shared variable \n",
    "# 1st param: initial value and 2nd param: name\n",
    "x = theano.shared(20.0, 'x')\n",
    "print(x)"
   ]
  },
  {
   "cell_type": "code",
   "execution_count": 54,
   "metadata": {},
   "outputs": [],
   "source": [
    "# a cost function that has a minimum value\n",
    "cost = x*x + x + 1\n",
    "# in theano, you don't have to compute gradients yourself!\n",
    "x_update = x - 0.3*T.grad(cost, x)\n",
    "\n",
    "# T.grad: 1st param-> cost function and 2nd-> gradient wrt which variable"
   ]
  },
  {
   "cell_type": "code",
   "execution_count": 55,
   "metadata": {},
   "outputs": [
    {
     "name": "stdout",
     "output_type": "stream",
     "text": [
      "Elemwise{sub,no_inplace}.0\n"
     ]
    }
   ],
   "source": [
    "print(x_update)"
   ]
  },
  {
   "cell_type": "code",
   "execution_count": 60,
   "metadata": {
    "collapsed": true
   },
   "outputs": [],
   "source": [
    "# x is not an \"input\", it's a thing you update\n",
    "# in later examples, data and labels would go into the inputs\n",
    "# and model params would go in the updates\n",
    "# updates takes in a list of tuples, each tuple has 2 things in it:\n",
    "# 1) the shared variable to update, 2) the update expression\n",
    "train = theano.function(inputs=[], outputs=cost, updates=[(x, x_update)])"
   ]
  },
  {
   "cell_type": "code",
   "execution_count": 61,
   "metadata": {},
   "outputs": [
    {
     "name": "stdout",
     "output_type": "stream",
     "text": [
      "0 : 0.75\n",
      "1 : 0.75\n",
      "2 : 0.75\n",
      "3 : 0.75\n",
      "4 : 0.75\n",
      "5 : 0.75\n",
      "6 : 0.75\n",
      "7 : 0.75\n",
      "8 : 0.75\n",
      "9 : 0.75\n",
      "10 : 0.75\n",
      "11 : 0.75\n",
      "12 : 0.75\n",
      "13 : 0.75\n",
      "14 : 0.75\n",
      "15 : 0.75\n",
      "16 : 0.75\n",
      "17 : 0.75\n",
      "18 : 0.75\n",
      "19 : 0.75\n",
      "20 : 0.75\n",
      "21 : 0.75\n",
      "22 : 0.75\n",
      "23 : 0.75\n",
      "24 : 0.75\n",
      "-0.49999999999999994\n"
     ]
    }
   ],
   "source": [
    "# write your loop to call the training function.\n",
    "# it has no arguments!\n",
    "for i in range(25):\n",
    "    cost_val = train()\n",
    "    print(i,':',cost_val)\n",
    "\n",
    "# print the optimal value of x\n",
    "print(x.get_value())"
   ]
  }
 ],
 "metadata": {
  "kernelspec": {
   "display_name": "Python 3",
   "language": "python",
   "name": "python3"
  },
  "language_info": {
   "codemirror_mode": {
    "name": "ipython",
    "version": 3
   },
   "file_extension": ".py",
   "mimetype": "text/x-python",
   "name": "python",
   "nbconvert_exporter": "python",
   "pygments_lexer": "ipython3",
   "version": "3.6.3"
  },
  "widgets": {
   "state": {},
   "version": "1.1.2"
  }
 },
 "nbformat": 4,
 "nbformat_minor": 2
}
