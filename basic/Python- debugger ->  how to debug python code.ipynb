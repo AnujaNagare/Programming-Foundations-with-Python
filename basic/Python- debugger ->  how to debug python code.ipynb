{
 "cells": [
  {
   "cell_type": "markdown",
   "metadata": {
    "collapsed": true
   },
   "source": [
    "## Useful pdb commands:\n",
    "\n",
    "    b: set a breakpoint\n",
    "    b[int] : set a break point\n",
    "    \n",
    "    c: continue debugging until you hit a breakpoint\n",
    "       i.e. complete execution\n",
    "    \n",
    "    s: step through the code\n",
    "    n: to go to next line of code\n",
    "    l: list source code for the current file (default: 11 lines including the line being executed)\n",
    "    u: navigate up a stack frame\n",
    "    d: navigate down a stack frame\n",
    "    p: to print the value of an expression in the current context\n"
   ]
  },
  {
   "cell_type": "code",
   "execution_count": 1,
   "metadata": {
    "collapsed": true
   },
   "outputs": [],
   "source": [
    "import pdb"
   ]
  },
  {
   "cell_type": "code",
   "execution_count": 2,
   "metadata": {},
   "outputs": [
    {
     "name": "stdout",
     "output_type": "stream",
     "text": [
      "--Return--\n",
      "> <ipython-input-2-90adb576e02e>(12)<module>()->None\n",
      "-> pdb.set_trace()\n",
      "(Pdb) l\n",
      "  7  \tx=50\n",
      "  8  \ty=60\n",
      "  9  \tz=5\n",
      " 10  \tn=1000\n",
      " 11  \t\n",
      " 12  ->\tpdb.set_trace()\n",
      " 13  \ttranform(5, 10)\n",
      " 14  \tprint('z= ', str(z))\n",
      " 15  \t\n",
      " 16  \tn = tranform(2,3)\n",
      " 17  \tprint('n= ', str(n))\n",
      "(Pdb) n\n",
      "> /Users/anujanagare/anaconda3/lib/python3.6/site-packages/IPython/core/interactiveshell.py(2865)run_code()\n",
      "-> sys.excepthook = old_excepthook\n",
      "(Pdb) x\n",
      "*** NameError: name 'x' is not defined\n",
      "(Pdb) y\n",
      "*** NameError: name 'y' is not defined\n",
      "(Pdb) p(n)\n",
      "*** NameError: name 'n' is not defined\n",
      "(Pdb) b 17\n",
      "Breakpoint 1 at /Users/anujanagare/anaconda3/lib/python3.6/site-packages/IPython/core/interactiveshell.py:17\n",
      "(Pdb) b\n",
      "Num Type         Disp Enb   Where\n",
      "1   breakpoint   keep yes   at /Users/anujanagare/anaconda3/lib/python3.6/site-packages/IPython/core/interactiveshell.py:17\n",
      "(Pdb) b transform\n",
      "*** The specified object 'transform' is not a function or was not found along sys.path.\n",
      "(Pdb) c\n",
      "z=  5\n",
      "n=  13\n"
     ]
    }
   ],
   "source": [
    "def tranform(x, y):\n",
    "    y = y**2\n",
    "    x*=2\n",
    "    z= x+y\n",
    "    return z\n",
    "\n",
    "x=50\n",
    "y=60\n",
    "z=5\n",
    "n=1000\n",
    "\n",
    "pdb.set_trace()\n",
    "tranform(5, 10)\n",
    "print('z= ', str(z))\n",
    "\n",
    "n = tranform(2,3)\n",
    "print('n= ', str(n))"
   ]
  }
 ],
 "metadata": {
  "kernelspec": {
   "display_name": "Python 3",
   "language": "python",
   "name": "python3"
  },
  "language_info": {
   "codemirror_mode": {
    "name": "ipython",
    "version": 3
   },
   "file_extension": ".py",
   "mimetype": "text/x-python",
   "name": "python",
   "nbconvert_exporter": "python",
   "pygments_lexer": "ipython3",
   "version": "3.6.3"
  }
 },
 "nbformat": 4,
 "nbformat_minor": 2
}
