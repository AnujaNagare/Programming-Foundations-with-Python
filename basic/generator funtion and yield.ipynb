{
 "cells": [
  {
   "cell_type": "markdown",
   "metadata": {},
   "source": [
    "## Generators in Python"
   ]
  },
  {
   "cell_type": "markdown",
   "metadata": {},
   "source": [
    "- Python generators are a simple way of creating iterators.\n",
    "- Generator is a function that returns an object (iterator) which we can iterate over (one value at a time)."
   ]
  },
  {
   "cell_type": "markdown",
   "metadata": {},
   "source": [
    "It is fairly simple to create a generator in Python. It is as easy as defining a normal function with yield statement instead of a return statement.\n",
    "\n",
    "- return statement terminates a function entirely, \n",
    "- yield statement pauses the function saving all its states and later continues from there on successive calls."
   ]
  },
  {
   "cell_type": "markdown",
   "metadata": {},
   "source": [
    "Here is how a generator function differs from a normal function.\n",
    "\n",
    "   - Generator function contains one or more yield statement.\n",
    "   - When called, it returns an object (iterator) but does not start execution immediately.\n",
    "   - Methods like __iter__() and __next__() are implemented automatically. So we can iterate through the items using next().\n",
    "   - Once the function yields, the function is paused and the control is transferred to the caller.\n",
    "   - Local variables and their states are remembered between successive calls.\n",
    "   - Finally, when the function terminates, StopIteration is raised automatically on further calls.\n"
   ]
  },
  {
   "cell_type": "markdown",
   "metadata": {},
   "source": [
    "## Why generators are used in Python?"
   ]
  },
  {
   "cell_type": "markdown",
   "metadata": {},
   "source": [
    "1. Easy to Implement\n",
    "2. Memory Efficient (produces one item at a time.)\n",
    "3. Represent Infinite Stream\n",
    "4. Pipelining Generators\n"
   ]
  },
  {
   "cell_type": "markdown",
   "metadata": {},
   "source": [
    "### A simple generator function"
   ]
  },
  {
   "cell_type": "code",
   "execution_count": null,
   "metadata": {
    "collapsed": true
   },
   "outputs": [],
   "source": [
    "def my_gen():\n",
    "    n = 1\n",
    "    print('This is printed first')\n",
    "    # Generator function contains yield statements\n",
    "    yield n\n",
    "\n",
    "    n += 1\n",
    "    print('This is printed second')\n",
    "    yield n\n",
    "\n",
    "    n += 1\n",
    "    print('This is printed at last')\n",
    "    yield n"
   ]
  },
  {
   "cell_type": "code",
   "execution_count": 8,
   "metadata": {
    "collapsed": true
   },
   "outputs": [],
   "source": [
    "a = my_gen()"
   ]
  },
  {
   "cell_type": "code",
   "execution_count": 9,
   "metadata": {},
   "outputs": [
    {
     "name": "stdout",
     "output_type": "stream",
     "text": [
      "This is printed first\n"
     ]
    },
    {
     "data": {
      "text/plain": [
       "1"
      ]
     },
     "execution_count": 9,
     "metadata": {},
     "output_type": "execute_result"
    }
   ],
   "source": [
    "next(a)"
   ]
  },
  {
   "cell_type": "code",
   "execution_count": 10,
   "metadata": {},
   "outputs": [
    {
     "name": "stdout",
     "output_type": "stream",
     "text": [
      "This is printed second\n"
     ]
    },
    {
     "data": {
      "text/plain": [
       "2"
      ]
     },
     "execution_count": 10,
     "metadata": {},
     "output_type": "execute_result"
    }
   ],
   "source": [
    "next(a)"
   ]
  },
  {
   "cell_type": "code",
   "execution_count": 11,
   "metadata": {},
   "outputs": [
    {
     "name": "stdout",
     "output_type": "stream",
     "text": [
      "This is printed at last\n"
     ]
    },
    {
     "data": {
      "text/plain": [
       "3"
      ]
     },
     "execution_count": 11,
     "metadata": {},
     "output_type": "execute_result"
    }
   ],
   "source": [
    "next(a)"
   ]
  },
  {
   "cell_type": "markdown",
   "metadata": {},
   "source": [
    "### Using for loop"
   ]
  },
  {
   "cell_type": "code",
   "execution_count": 13,
   "metadata": {},
   "outputs": [
    {
     "name": "stdout",
     "output_type": "stream",
     "text": [
      "This is printed first\n",
      "1\n",
      "This is printed second\n",
      "2\n",
      "This is printed at last\n",
      "3\n"
     ]
    }
   ],
   "source": [
    "for item in my_gen():\n",
    "    print(item)"
   ]
  },
  {
   "cell_type": "markdown",
   "metadata": {},
   "source": [
    "### Python Generator Expression"
   ]
  },
  {
   "cell_type": "code",
   "execution_count": 16,
   "metadata": {},
   "outputs": [
    {
     "data": {
      "text/plain": [
       "[1, 9, 36, 100]"
      ]
     },
     "execution_count": 16,
     "metadata": {},
     "output_type": "execute_result"
    }
   ],
   "source": [
    "# Initialize the list\n",
    "my_list = [1, 3, 6, 10]\n",
    "\n",
    "# square each term using list comprehension\n",
    "# Output: [1, 9, 36, 100]\n",
    "[x**2 for x in my_list]"
   ]
  },
  {
   "cell_type": "code",
   "execution_count": 20,
   "metadata": {},
   "outputs": [],
   "source": [
    "# same thing can be done using generator expression\n",
    "# Output: <generator object <genexpr> at 0x0000000002EBDAF8>\n",
    "a = (x**2 for x in my_list)"
   ]
  },
  {
   "cell_type": "code",
   "execution_count": 19,
   "metadata": {},
   "outputs": [
    {
     "name": "stdout",
     "output_type": "stream",
     "text": [
      "1\n",
      "9\n",
      "36\n",
      "100\n"
     ]
    }
   ],
   "source": [
    "for item in a:\n",
    "    print(item)"
   ]
  },
  {
   "cell_type": "code",
   "execution_count": null,
   "metadata": {
    "collapsed": true
   },
   "outputs": [],
   "source": []
  },
  {
   "cell_type": "code",
   "execution_count": null,
   "metadata": {
    "collapsed": true
   },
   "outputs": [],
   "source": []
  },
  {
   "cell_type": "markdown",
   "metadata": {},
   "source": [
    "ref : https://www.programiz.com/python-programming/generator"
   ]
  }
 ],
 "metadata": {
  "kernelspec": {
   "display_name": "Python 3",
   "language": "python",
   "name": "python3"
  },
  "language_info": {
   "codemirror_mode": {
    "name": "ipython",
    "version": 3
   },
   "file_extension": ".py",
   "mimetype": "text/x-python",
   "name": "python",
   "nbconvert_exporter": "python",
   "pygments_lexer": "ipython3",
   "version": "3.6.3"
  }
 },
 "nbformat": 4,
 "nbformat_minor": 2
}
